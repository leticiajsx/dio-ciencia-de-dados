{
  "nbformat": 4,
  "nbformat_minor": 0,
  "metadata": {
    "colab": {
      "provenance": [],
      "authorship_tag": "ABX9TyP9fPK8kWBPcMm4KAuEVCeV",
      "include_colab_link": true
    },
    "kernelspec": {
      "name": "python3",
      "display_name": "Python 3"
    },
    "language_info": {
      "name": "python"
    }
  },
  "cells": [
    {
      "cell_type": "markdown",
      "metadata": {
        "id": "view-in-github",
        "colab_type": "text"
      },
      "source": [
        "<a href=\"https://colab.research.google.com/github/leticiajsx/dio-ciencia-de-dados/blob/main/sistema_bancario.ipynb\" target=\"_parent\"><img src=\"https://colab.research.google.com/assets/colab-badge.svg\" alt=\"Open In Colab\"/></a>"
      ]
    },
    {
      "cell_type": "code",
      "execution_count": 10,
      "metadata": {
        "id": "ODMVMmFil0aF"
      },
      "outputs": [],
      "source": [
        "menu = \"\"\"\n",
        "\n",
        "[d] Depositar\n",
        "[s] Sacar\n",
        "[e] Extrato\n",
        "[q] Sair\n",
        "\n",
        "=>\"\"\"\n",
        "\n",
        "saldo = 0\n",
        "limite = 500\n",
        "extrato = \"\"\n",
        "numero_saques = 0\n",
        "LIMITE_SAQUES = 3"
      ]
    },
    {
      "cell_type": "code",
      "source": [
        "while True:\n",
        "  opcao = input(menu)\n",
        "\n",
        "  if opcao == \"d\":\n",
        "    valor = float(input(\"Informe o valor do depósito: \"))\n",
        "\n",
        "    if valor > 0:\n",
        "      saldo += valor\n",
        "      extrato += f\"Depósito: R$ {valor:.2f}\\n\"\n",
        "\n",
        "    else:\n",
        "      print(\"Operação falhou! O valor informado é inválido.\")\n",
        "\n",
        "  elif opcao == \"s\":\n",
        "    valor = float(input(\"Informe o valor do saque: \"))\n",
        "    excedeu_saldo = valor > saldo\n",
        "    excedeu_limite = valor > limite\n",
        "    excedeu_saques = numero_saques >= LIMITE_SAQUES\n",
        "\n",
        "    if excedeu_saldo:\n",
        "      print(\"Operação falhou! Você não tem saldo suficiente.\")\n",
        "\n",
        "    if excedeu_limite:\n",
        "      print(\"Operação falhou! O valor do saque excede o limite.\")\n",
        "\n",
        "    if excedeu_saques:\n",
        "      print(\"Operação falhou! Número maximo de saques excedido.\")\n",
        "\n",
        "    if valor > 0:\n",
        "      saldo -= valor\n",
        "      extrato += f\"Saque: R$ {valor:.2f}\\n\"\n",
        "      numero_saques += 1\n",
        "\n",
        "  elif opcao == \"e\":\n",
        "    print(\"Extrato\")\n",
        "    print(\"Não foram realizadas movimentações.\") if not extrato else extrato\n",
        "    print(f\"Saldo: R$ {saldo:.2f}\\n\")\n",
        "\n",
        "  elif opcao == \"q\":\n",
        "    break\n",
        "\n",
        "else:\n",
        "  print(\"Operação inválida\")"
      ],
      "metadata": {
        "id": "x86cpRKpmd3G"
      },
      "execution_count": null,
      "outputs": []
    },
    {
      "cell_type": "code",
      "source": [],
      "metadata": {
        "id": "yxnd_tjWpRpU"
      },
      "execution_count": null,
      "outputs": []
    }
  ]
}