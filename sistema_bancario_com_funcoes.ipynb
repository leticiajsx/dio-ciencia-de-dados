{
  "nbformat": 4,
  "nbformat_minor": 0,
  "metadata": {
    "colab": {
      "provenance": [],
      "authorship_tag": "ABX9TyMdxIvC/YLSSzJSuR32fhAX",
      "include_colab_link": true
    },
    "kernelspec": {
      "name": "python3",
      "display_name": "Python 3"
    },
    "language_info": {
      "name": "python"
    }
  },
  "cells": [
    {
      "cell_type": "markdown",
      "metadata": {
        "id": "view-in-github",
        "colab_type": "text"
      },
      "source": [
        "<a href=\"https://colab.research.google.com/github/leticiajsx/dio-ciencia-de-dados/blob/main/sistema_bancario_com_funcoes.ipynb\" target=\"_parent\"><img src=\"https://colab.research.google.com/assets/colab-badge.svg\" alt=\"Open In Colab\"/></a>"
      ]
    },
    {
      "cell_type": "code",
      "source": [
        "# Imports\n",
        "import textwrap"
      ],
      "metadata": {
        "id": "Mkz9bkpLsGg-"
      },
      "execution_count": 1,
      "outputs": []
    },
    {
      "cell_type": "code",
      "source": [
        "# Menu da aplicação\n",
        "def menu():\n",
        "    menu = \"\"\"\\n\n",
        "    ================ MENU ================\n",
        "    [d]\\tDepositar\n",
        "    [s]\\tSacar\n",
        "    [e]\\tExtrato\n",
        "    [nc]\\tNova conta\n",
        "    [lc]\\tListar contas\n",
        "    [nu]\\tNovo usuário\n",
        "    [q]\\tSair\n",
        "    => \"\"\"\n",
        "    return input(textwrap.dedent(menu))"
      ],
      "metadata": {
        "id": "wuNrTrcusKsd"
      },
      "execution_count": 2,
      "outputs": []
    },
    {
      "cell_type": "code",
      "source": [
        "# Depositar valor\n",
        "def depositar(saldo, valor, extrato, /):\n",
        "    if valor > 0:\n",
        "        saldo += valor\n",
        "        extrato += f\"Depósito:\\tR$ {valor:.2f}\\n\"\n",
        "        print(\"\\n=== Depósito realizado com sucesso! ===\")\n",
        "    else:\n",
        "        print(\"\\n@@@ Operação falhou! O valor informado é inválido. @@@\")\n",
        "\n",
        "    return saldo, extrato"
      ],
      "metadata": {
        "id": "IChhi7FBsO1A"
      },
      "execution_count": 3,
      "outputs": []
    },
    {
      "cell_type": "code",
      "source": [
        "# Sacar valor\n",
        "def sacar(*, saldo, valor, extrato, limite, numero_saques, limite_saques):\n",
        "    excedeu_saldo = valor > saldo\n",
        "    excedeu_limite = valor > limite\n",
        "    excedeu_saques = numero_saques >= limite_saques\n",
        "\n",
        "    if excedeu_saldo:\n",
        "        print(\"\\n@@@ Operação falhou! Você não tem saldo suficiente. @@@\")\n",
        "\n",
        "    elif excedeu_limite:\n",
        "        print(\"\\n@@@ Operação falhou! O valor do saque excede o limite. @@@\")\n",
        "\n",
        "    elif excedeu_saques:\n",
        "        print(\"\\n@@@ Operação falhou! Número máximo de saques excedido. @@@\")\n",
        "\n",
        "    elif valor > 0:\n",
        "        saldo -= valor\n",
        "        extrato += f\"Saque:\\t\\tR$ {valor:.2f}\\n\"\n",
        "        numero_saques += 1\n",
        "        print(\"\\n=== Saque realizado com sucesso! ===\")\n",
        "\n",
        "    else:\n",
        "        print(\"\\n@@@ Operação falhou! O valor informado é inválido. @@@\")\n",
        "\n",
        "    return saldo, extrato"
      ],
      "metadata": {
        "id": "BQtnArzbsTqO"
      },
      "execution_count": 4,
      "outputs": []
    },
    {
      "cell_type": "code",
      "source": [
        "# Exibir o extrato dos valores\n",
        "def exibir_extrato(saldo, /, *, extrato):\n",
        "    print(\"\\n================ EXTRATO ================\")\n",
        "    print(\"Não foram realizadas movimentações.\" if not extrato else extrato)\n",
        "    print(f\"\\nSaldo:\\t\\tR$ {saldo:.2f}\")\n",
        "    print(\"==========================================\")"
      ],
      "metadata": {
        "id": "hNVX9t_1sbYY"
      },
      "execution_count": 5,
      "outputs": []
    },
    {
      "cell_type": "code",
      "source": [
        "# Criar um usuário\n",
        "def criar_usuario(usuarios):\n",
        "    cpf = input(\"Informe o CPF (somente número): \")\n",
        "    usuario = filtrar_usuario(cpf, usuarios)\n",
        "\n",
        "    if usuario:\n",
        "        print(\"\\n@@@ Já existe usuário com esse CPF! @@@\")\n",
        "        return\n",
        "\n",
        "    nome = input(\"Informe o nome completo: \")\n",
        "    data_nascimento = input(\"Informe a data de nascimento (dd-mm-aaaa): \")\n",
        "    endereco = input(\"Informe o endereço (logradouro, nro - bairro - cidade/sigla estado): \")\n",
        "\n",
        "    usuarios.append({\"nome\": nome, \"data_nascimento\": data_nascimento, \"cpf\": cpf, \"endereco\": endereco})\n",
        "\n",
        "    print(\"=== Usuário criado com sucesso! ===\")"
      ],
      "metadata": {
        "id": "3rrlqXq5siP0"
      },
      "execution_count": 6,
      "outputs": []
    },
    {
      "cell_type": "code",
      "source": [
        "# Filtrar usuário por cpf\n",
        "def filtrar_usuario(cpf, usuarios):\n",
        "    usuarios_filtrados = [usuario for usuario in usuarios if usuario[\"cpf\"] == cpf]\n",
        "    return usuarios_filtrados[0] if usuarios_filtrados else None"
      ],
      "metadata": {
        "id": "CAy8_GW7svpH"
      },
      "execution_count": 7,
      "outputs": []
    },
    {
      "cell_type": "code",
      "source": [
        "# Criar conta a partir do cpf\n",
        "def criar_conta(agencia, numero_conta, usuarios):\n",
        "    cpf = input(\"Informe o CPF do usuário: \")\n",
        "    usuario = filtrar_usuario(cpf, usuarios)\n",
        "\n",
        "    if usuario:\n",
        "        print(\"\\n=== Conta criada com sucesso! ===\")\n",
        "        return {\"agencia\": agencia, \"numero_conta\": numero_conta, \"usuario\": usuario}\n",
        "\n",
        "    print(\"\\n@@@ Usuário não encontrado, fluxo de criação de conta encerrado! @@@\")"
      ],
      "metadata": {
        "id": "3UwpaFuHs0hv"
      },
      "execution_count": 8,
      "outputs": []
    },
    {
      "cell_type": "code",
      "source": [
        "# Listar contas criadas\n",
        "def listar_contas(contas):\n",
        "    for conta in contas:\n",
        "        linha = f\"\"\"\\\n",
        "            Agência:\\t{conta['agencia']}\n",
        "            C/C:\\t\\t{conta['numero_conta']}\n",
        "            Titular:\\t{conta['usuario']['nome']}\n",
        "        \"\"\"\n",
        "        print(\"=\" * 100)\n",
        "        print(textwrap.dedent(linha))"
      ],
      "metadata": {
        "id": "fcymYNHvs572"
      },
      "execution_count": 9,
      "outputs": []
    },
    {
      "cell_type": "code",
      "execution_count": 10,
      "metadata": {
        "id": "JOVjxW8jsFRh"
      },
      "outputs": [],
      "source": [
        "# Chama o menu e gerencia os estados\n",
        "def main():\n",
        "    LIMITE_SAQUES = 3\n",
        "    AGENCIA = \"0001\"\n",
        "\n",
        "    saldo = 0\n",
        "    limite = 500\n",
        "    extrato = \"\"\n",
        "    numero_saques = 0\n",
        "    usuarios = []\n",
        "    contas = []\n",
        "\n",
        "    while True:\n",
        "        opcao = menu()\n",
        "\n",
        "        if opcao == \"d\":\n",
        "            valor = float(input(\"Informe o valor do depósito: \"))\n",
        "\n",
        "            saldo, extrato = depositar(saldo, valor, extrato)\n",
        "\n",
        "        elif opcao == \"s\":\n",
        "            valor = float(input(\"Informe o valor do saque: \"))\n",
        "\n",
        "            saldo, extrato = sacar(\n",
        "                saldo=saldo,\n",
        "                valor=valor,\n",
        "                extrato=extrato,\n",
        "                limite=limite,\n",
        "                numero_saques=numero_saques,\n",
        "                limite_saques=LIMITE_SAQUES,\n",
        "            )\n",
        "\n",
        "        elif opcao == \"e\":\n",
        "            exibir_extrato(saldo, extrato=extrato)\n",
        "\n",
        "        elif opcao == \"nu\":\n",
        "            criar_usuario(usuarios)\n",
        "\n",
        "        elif opcao == \"nc\":\n",
        "            numero_conta = len(contas) + 1\n",
        "            conta = criar_conta(AGENCIA, numero_conta, usuarios)\n",
        "\n",
        "            if conta:\n",
        "                contas.append(conta)\n",
        "\n",
        "        elif opcao == \"lc\":\n",
        "            listar_contas(contas)\n",
        "\n",
        "        elif opcao == \"q\":\n",
        "            break\n",
        "\n",
        "        else:\n",
        "            print(\"Operação inválida, por favor selecione novamente a operação desejada.\")"
      ]
    },
    {
      "cell_type": "code",
      "source": [
        "main()"
      ],
      "metadata": {
        "id": "VXGuUb6EtF-B"
      },
      "execution_count": null,
      "outputs": []
    },
    {
      "cell_type": "code",
      "source": [],
      "metadata": {
        "id": "LsR2E27qtbi4"
      },
      "execution_count": null,
      "outputs": []
    }
  ]
}